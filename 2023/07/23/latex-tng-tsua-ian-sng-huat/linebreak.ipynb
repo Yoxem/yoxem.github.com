{
 "cells": [
  {
   "cell_type": "code",
   "execution_count": 1,
   "id": "84f35666-acd1-488e-8f4e-5ba394862efb",
   "metadata": {},
   "outputs": [],
   "source": [
    "(*有關於LaTeX使用於斷行的演算法\n",
    "\n",
    "首先我們要制定一個字元（包含斷行後新生的連字號，以及空白）在斷行前、斷行後的寬度\n",
    "\n",
    "*)"
   ]
  },
  {
   "cell_type": "code",
   "execution_count": 19,
   "id": "b7ca64bd-a6be-4e40-a180-5a70602d2130",
   "metadata": {},
   "outputs": [
    {
     "data": {
      "text/plain": [
       "val wordSegList : string list =\n",
       "  [\"no\"; \"HY\"; \"thing\"; \"SP\"; \"can\"; \"SP\"; \"stop\"; \"SP\"; \"the\"; \"SP\"; \"cro\";\n",
       "   \"HY\"; \"co\"; \"HY\"; \"dile\"; \"cross\"; \"SP\"; \"it.\"]\n"
      ]
     },
     "execution_count": 19,
     "metadata": {},
     "output_type": "execute_result"
    }
   ],
   "source": [
    "(*假設這段字元 word segment list = wordSegList，SP表達半形空白，HY表達連字號*)\n",
    "let wordSegList = [\"no\"; \"HY\"; \"thing\"; \"SP\"; \"can\"; \"SP\"; \"stop\";\"SP\"; \"the\"; \"SP\"; \"cro\"; \"HY\"; \"co\";\"HY\" ;\"dile\"; \"cross\"; \"SP\"; \"it.\"] ;;"
   ]
  },
  {
   "cell_type": "code",
   "execution_count": 34,
   "id": "417d37f0-871f-4266-b0a7-6997af0a2d68",
   "metadata": {},
   "outputs": [
    {
     "data": {
      "text/plain": [
       "type segment_with_length = { sg : string; ow : float; hw : float; }\n"
      ]
     },
     "execution_count": 34,
     "metadata": {},
     "output_type": "execute_result"
    }
   ],
   "source": [
    "(*現在轉成每個word segment都附帶長度的格式*)\n",
    "(* sg: 文段 segment\n",
    "ow : original width 原來的寬度 \n",
    "hw : hyphenated width 該處指定為斷字後的寬度*)\n",
    "\n",
    "type segment_with_length = { sg: string; ow: float; hw: float}"
   ]
  },
  {
   "cell_type": "code",
   "execution_count": 35,
   "id": "52714e78-1652-437d-ab04-0121baa9b3c9",
   "metadata": {},
   "outputs": [
    {
     "data": {
      "text/plain": [
       "val segOwList : float list =\n",
       "  [2.; 0.; 5.; 1.; 3.; 1.; 4.; 1.; 3.; 1.; 3.; 0.; 2.; 0.; 4.; 5.; 1.; 3.]\n"
      ]
     },
     "execution_count": 35,
     "metadata": {},
     "output_type": "execute_result"
    }
   ],
   "source": [
    "(* 每個segment之長度*)\n",
    "let segOwList = List.map (fun x -> match x with\n",
    "                            | \"SP\" -> 1.0  (*SP 通常寬度為1*)\n",
    "                            | \"HY\" -> 0.0 (*HY 連字點寬度為0*)\n",
    "                            | _ -> float_of_int (String.length x))    (*以chars的長度來當做文字寬度 假設是等寬半形字元*)\n",
    "                                      wordSegList\n",
    "                                    "
   ]
  },
  {
   "cell_type": "code",
   "execution_count": 64,
   "id": "37c1c9c0-1626-4262-8b3c-378148be8c23",
   "metadata": {},
   "outputs": [
    {
     "data": {
      "text/plain": [
       "val segHwList : float list =\n",
       "  [infinity; 1.; infinity; 0.; infinity; 0.; infinity; 0.; infinity; 0.;\n",
       "   infinity; 1.; infinity; 1.; infinity; infinity; 0.; infinity]\n"
      ]
     },
     "execution_count": 64,
     "metadata": {},
     "output_type": "execute_result"
    }
   ],
   "source": [
    "(*每個segment在其被斷行時的長度 *)\n",
    "let segHwList = List.map (fun x -> match x with\n",
    "                            | \"SP\" -> 0.0  (*SP 通常斷行後寬度為0*)\n",
    "                            | \"HY\" -> 1.0 (*HY 連字點斷行後為1*)\n",
    "                            | _ -> infinity)(*不可能斷行的地方，寬度設做0*)\n",
    "                                      wordSegList"
   ]
  },
  {
   "cell_type": "code",
   "execution_count": 65,
   "id": "4cd13582-2d18-4e64-8618-ee7cf7c6e949",
   "metadata": {},
   "outputs": [
    {
     "data": {
      "text/plain": [
       "val segListCombined : ((string * float) * float) list =\n",
       "  [((\"no\", 2.), infinity); ((\"HY\", 0.), 1.); ((\"thing\", 5.), infinity);\n",
       "   ((\"SP\", 1.), 0.); ((\"can\", 3.), infinity); ((\"SP\", 1.), 0.);\n",
       "   ((\"stop\", 4.), infinity); ((\"SP\", 1.), 0.); ((\"the\", 3.), infinity);\n",
       "   ((\"SP\", 1.), 0.); ((\"cro\", 3.), infinity); ((\"HY\", 0.), 1.);\n",
       "   ((\"co\", 2.), infinity); ((\"HY\", 0.), 1.); ((\"dile\", 4.), infinity);\n",
       "   ((\"cross\", 5.), infinity); ((\"SP\", 1.), 0.); ((\"it.\", 3.), infinity)]\n"
      ]
     },
     "execution_count": 65,
     "metadata": {},
     "output_type": "execute_result"
    },
    {
     "data": {
      "text/plain": [
       "val segWithLengthList : segment_with_length list =\n",
       "  [{sg = \"no\"; ow = 2.; hw = infinity}; {sg = \"HY\"; ow = 0.; hw = 1.};\n",
       "   {sg = \"thing\"; ow = 5.; hw = infinity}; {sg = \"SP\"; ow = 1.; hw = 0.};\n",
       "   {sg = \"can\"; ow = 3.; hw = infinity}; {sg = \"SP\"; ow = 1.; hw = 0.};\n",
       "   {sg = \"stop\"; ow = 4.; hw = infinity}; {sg = \"SP\"; ow = 1.; hw = 0.};\n",
       "   {sg = \"the\"; ow = 3.; hw = infinity}; {sg = \"SP\"; ow = 1.; hw = 0.};\n",
       "   {sg = \"cro\"; ow = 3.; hw = infinity}; {sg = \"HY\"; ow = 0.; hw = 1.};\n",
       "   {sg = \"co\"; ow = 2.; hw = infinity}; {sg = \"HY\"; ow = 0.; hw = 1.};\n",
       "   {sg = \"dile\"; ow = 4.; hw = infinity};\n",
       "   {sg = \"cross\"; ow = 5.; hw = infinity}; {sg = \"SP\"; ow = 1.; hw = 0.};\n",
       "   {sg = \"it.\"; ow = 3.; hw = infinity}]\n"
      ]
     },
     "execution_count": 65,
     "metadata": {},
     "output_type": "execute_result"
    }
   ],
   "source": [
    "(*3個列表組合 zip 在一起*)\n",
    "\n",
    "let segListCombined = List.combine (List.combine wordSegList segOwList) segHwList;;\n",
    "\n",
    "(*然後變成type segment_with_length的列表*)\n",
    "\n",
    "let segWithLengthList = List.map (fun i -> match i with\n",
    "                                  | ((sg,ow),hw) -> {sg = sg; ow = ow; hw = hw}) segListCombined\n",
    "\n"
   ]
  },
  {
   "cell_type": "code",
   "execution_count": 77,
   "id": "f5ab28cc-3982-4ba2-b878-8270ee609a4f",
   "metadata": {},
   "outputs": [
    {
     "data": {
      "text/plain": [
       "val lineWidth : float = 12.\n"
      ]
     },
     "execution_count": 77,
     "metadata": {},
     "output_type": "execute_result"
    },
    {
     "data": {
      "text/plain": [
       "val widthBetween : int -> int -> float = <fun>\n"
      ]
     },
     "execution_count": 77,
     "metadata": {},
     "output_type": "execute_result"
    },
    {
     "data": {
      "text/plain": [
       "val badness : int -> int -> float = <fun>\n"
      ]
     },
     "execution_count": 77,
     "metadata": {},
     "output_type": "execute_result"
    },
    {
     "data": {
      "text/plain": [
       "val minIndex : int ref = {contents = 0}\n"
      ]
     },
     "execution_count": 77,
     "metadata": {},
     "output_type": "execute_result"
    },
    {
     "data": {
      "text/plain": [
       "val costKStorage : ('_weak11, '_weak12) Hashtbl.t = <abstr>\n"
      ]
     },
     "execution_count": 77,
     "metadata": {},
     "output_type": "execute_result"
    },
    {
     "data": {
      "text/plain": [
       "val cost : int -> float = <fun>\n"
      ]
     },
     "execution_count": 77,
     "metadata": {},
     "output_type": "execute_result"
    }
   ],
   "source": [
    "(*\n",
    "我們可以定義在第 n 處斷行=>除了斷行點以外的文字消失，的成本函數 cost(n)，成本函數越小越好。\n",
    "這時後需要用動態規劃解決。\n",
    "badness (k, n)是指k~n-1處若塞於一行，且n處斷行時的懲罰函數（等下介紹），越小越好\n",
    "cost(n) = baness(0,n) 若其為有限，否則 min of k in 0...n-1 of badness(k, n) + cost(k)\n",
    "\n",
    "懲罰函數badness定義是：若lineWidth >= widthBetween(a,b)，則為二者之差的三次方，否則是無限大。\n",
    "k >= n\n",
    "badness(k, n) =  (lineWidth - widthBetween(k, n) )^3 if lineWidth >= widthBetween(k+1, n)\n",
    "                infinity                              elsewhere\n",
    "\n",
    "widthBetween(a,b)係指 a到b 塞在一行時的寬度\n",
    "widthBetween(a,b) = hw[b] + (sum{i=a...b-1} of ow[i]\n",
    "*)\n",
    "open Printf\n",
    "\n",
    "let lineWidth = 12.0;; (*一行最大寬度*)\n",
    "\n",
    "let widthBetween a b = if a> b then raise (Failure \"Exception: widthBetween a b, a <=b \")\n",
    "    else (List.nth segWithLengthList b).hw +. (sumOfOw a (b-1) segWithLengthList);;\n",
    "let badness k n = let remainedSpaceWidth = lineWidth -. (widthBetween k n) in\n",
    "                      if remainedSpaceWidth >= 0. then\n",
    "                          remainedSpaceWidth ** 3.\n",
    "                          else infinity;;\n",
    "\n",
    "let minIndex = ref 0;; (*cost(x)發生的最小的k)值*)\n",
    "\n",
    "(*動態規劃存放 (min cost, 其中的 k 滿足 min cost) 之處*)\n",
    "(*格式： n (minValue, minIndex) *)\n",
    "let costKStorage = Hashtbl.create 10;;\n",
    "\n",
    "let rec cost n =\n",
    "    if Hashtbl.mem costKStorage n then (*若是已經存儲了，即用裡面的值，避免重複運算*)\n",
    "        let (minValue, minIndex) = Hashtbl.find costKStorage n in\n",
    "        minValue\n",
    "    else if (badness 0 n) < infinity then (badness 0 n)\n",
    "    else\n",
    "        let compareList = List.init n (fun k -> (badness k n) +. cost k) in\n",
    "        (*找最小值*)\n",
    "        let findMin lst = List.fold_left min infinity lst in\n",
    "        let minValue = findMin compareList in (*最小值*)\n",
    "        (*找最小值所在的索引index值*)\n",
    "        let findMinIndex lst = List.fold_left\n",
    "                                    (fun pos i -> if (List.nth lst i) == minValue then i else pos)\n",
    "                                    (-1)\n",
    "                                    (List.init (List.length lst) (fun x -> x)) in\n",
    "        let minIndex = findMinIndex compareList in\n",
    "        let _ =  Hashtbl.add costKStorage n (minValue, minIndex) in\n",
    "        minValue;;"
   ]
  },
  {
   "cell_type": "code",
   "execution_count": 151,
   "id": "ee59878d-81d9-4569-bfa3-d7f033c098bb",
   "metadata": {},
   "outputs": [
    {
     "data": {
      "text/plain": [
       "val sumOfOwAux :\n",
       "  int -> int -> int -> float -> segment_with_length list -> float = <fun>\n"
      ]
     },
     "execution_count": 151,
     "metadata": {},
     "output_type": "execute_result"
    },
    {
     "data": {
      "text/plain": [
       "val sumOfOw : int -> int -> segment_with_length list -> float = <fun>\n"
      ]
     },
     "execution_count": 151,
     "metadata": {},
     "output_type": "execute_result"
    }
   ],
   "source": [
    "(*sumOfOw : 上文的(sum{i=a...b} of ow[i]*)\n",
    "(* sumOfOwAux：輔助函數*)\n",
    "let rec sumOfOwAux i start final sum list =\n",
    "if i < start then sumOfOwAux (i+1) start final sum list\n",
    "else if (i>= start && i <= final) then sumOfOwAux (i+1) start final (sum +. (List.nth list i).ow) list\n",
    "else sum ;;\n",
    "\n",
    "let sumOfOw start final list = sumOfOwAux 0 start final 0.0 list;;"
   ]
  },
  {
   "cell_type": "code",
   "execution_count": 87,
   "id": "24343d2e-a102-4a57-abc4-23f4daa1f031",
   "metadata": {},
   "outputs": [
    {
     "data": {
      "text/plain": [
       "- : float = 179.\n"
      ]
     },
     "execution_count": 87,
     "metadata": {},
     "output_type": "execute_result"
    }
   ],
   "source": [
    "(*算到第11之處的成本*)\n",
    "(*結果\n",
    "no thing\n",
    "can stop\n",
    "crocodile\n",
    "...........^\n",
    "最多只能塞到箭頭處*)\n",
    "cost 11;;"
   ]
  },
  {
   "cell_type": "code",
   "execution_count": 106,
   "id": "6832a48d-6c81-4f44-bf43-9f5c1228b756",
   "metadata": {},
   "outputs": [
    {
     "data": {
      "text/plain": [
       "- : string =\n",
       "\"6 : inf -1\\n2 : inf -1\\n8 : inf -1\\n7 : 152.000000 3\\n13 : 153.000000 7\\n12 : inf -1\\n4 : inf -1\\n9 : 28.000000 5\\n11 : 179.000000 7\\n0 : inf -1\\n10 : inf -1\\n\"\n"
      ]
     },
     "execution_count": 106,
     "metadata": {},
     "output_type": "execute_result"
    }
   ],
   "source": [
    "(*找 costKStorage 目前的值*)\n",
    "let a = ref \"\" in\n",
    "    let _ = (Hashtbl.iter (fun x y -> let (y1,y2) = y in a := !a ^ (sprintf \"%d : %f %d\\n\" x y1 y2))  costKStorage) in !a;;"
   ]
  },
  {
   "cell_type": "code",
   "execution_count": 131,
   "id": "4eb14a61-ebfd-404a-894a-9ec640442708",
   "metadata": {},
   "outputs": [
    {
     "data": {
      "text/plain": [
       "val findBreakPointAux : int list -> int -> int list = <fun>\n"
      ]
     },
     "execution_count": 131,
     "metadata": {},
     "output_type": "execute_result"
    },
    {
     "data": {
      "text/plain": [
       "val findBreakPoint : int -> int list = <fun>\n"
      ]
     },
     "execution_count": 131,
     "metadata": {},
     "output_type": "execute_result"
    }
   ],
   "source": [
    "(*找出每個斷行點，回溯的搜尋HashTable*)\n",
    "\n",
    "\n",
    "let rec findBreakPointAux res k =\n",
    "if Hashtbl.mem costKStorage k then\n",
    "    let (minValue, minIndex) = Hashtbl.find costKStorage k in\n",
    "    findBreakPointAux (List.append res [k]) minIndex\n",
    "  else (List.append res [k]);;\n",
    "  \n",
    "let findBreakPoint n = findBreakPointAux [] n;;"
   ]
  },
  {
   "cell_type": "code",
   "execution_count": 133,
   "id": "3d28b131-3c7f-4497-81ac-99bf4db8fe5f",
   "metadata": {},
   "outputs": [
    {
     "data": {
      "text/plain": [
       "findBreakPoint <-- 13\n",
       "findBreakPointAux <-- []\n",
       "findBreakPointAux --> <fun>\n",
       "findBreakPointAux* <-- 13\n",
       "Hashtbl.find <-- <abstr>\n",
       "Hashtbl.find --> <fun>\n",
       "Hashtbl.find* <-- <poly>\n",
       "Hashtbl.find* --> <poly>\n",
       "findBreakPointAux <-- [13]\n",
       "findBreakPointAux --> <fun>\n",
       "findBreakPointAux* <-- 7\n",
       "Hashtbl.find <-- <abstr>\n",
       "Hashtbl.find --> <fun>\n",
       "Hashtbl.find* <-- <poly>\n",
       "Hashtbl.find* --> <poly>\n",
       "findBreakPointAux <-- [13; 7]\n",
       "findBreakPointAux --> <fun>\n",
       "findBreakPointAux* <-- 3\n",
       "findBreakPointAux* --> [13; 7; 3]\n",
       "findBreakPointAux* --> [13; 7; 3]\n",
       "findBreakPointAux* --> [13; 7; 3]\n",
       "findBreakPoint --> [13; 7; 3]\n",
       "- : int list = [13; 7; 3]\n"
      ]
     },
     "execution_count": 133,
     "metadata": {},
     "output_type": "execute_result"
    }
   ],
   "source": [
    "findBreakPoint 13;;"
   ]
  }
 ],
 "metadata": {
  "kernelspec": {
   "display_name": "OCaml default",
   "language": "OCaml",
   "name": "ocaml-jupyter-default"
  },
  "language_info": {
   "codemirror_mode": "text/x-ocaml",
   "file_extension": ".ml",
   "mimetype": "text/x-ocaml",
   "name": "OCaml",
   "nbconverter_exporter": null,
   "pygments_lexer": "OCaml",
   "version": "4.13.1"
  }
 },
 "nbformat": 4,
 "nbformat_minor": 5
}
